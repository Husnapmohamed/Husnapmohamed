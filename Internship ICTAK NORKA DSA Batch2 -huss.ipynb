{
 "cells": [
  {
   "cell_type": "code",
   "execution_count": 1,
   "metadata": {},
   "outputs": [],
   "source": [
    "# Internship TCS iON Side effects of a drug -ICTAK NORKA DSA Batch2 - Bindhu K George"
   ]
  },
  {
   "cell_type": "code",
   "execution_count": 2,
   "metadata": {},
   "outputs": [],
   "source": [
    "from faker import Faker\n",
    "import numpy as np\n",
    "import pandas as pd\n",
    "from random import choice, sample\n",
    "import matplotlib.pyplot as plt\n",
    "import seaborn as sns\n",
    "%matplotlib inline"
   ]
  },
  {
   "cell_type": "markdown",
   "metadata": {},
   "source": [
    "data1 = Faker()"
   ]
  },
  {
   "cell_type": "markdown",
   "metadata": {},
   "source": [
    "def create_names(n):\n",
    "   name = []\n",
    "   for _ in range(0, n):\n",
    "        name.append(data1.name())\n",
    "   return name"
   ]
  },
  {
   "cell_type": "markdown",
   "metadata": {},
   "source": [
    "name = create_names(400000)"
   ]
  },
  {
   "cell_type": "markdown",
   "metadata": {},
   "source": [
    "patient_id = np.random.randint(1, 400000, size = 400000, dtype = 'int')"
   ]
  },
  {
   "cell_type": "markdown",
   "metadata": {},
   "source": [
    "data2 = pd.DataFrame(list(zip(patient_id,name,)),\n",
    "                   columns = [ 'patient_id','name'])"
   ]
  },
  {
   "cell_type": "markdown",
   "metadata": {},
   "source": [
    "data2"
   ]
  },
  {
   "cell_type": "markdown",
   "metadata": {},
   "source": [
    "import numpy as np\n",
    "\n",
    "def weighted_cartesian_choice(*iterables):\n",
    "    \n",
    "   # An arbitrary number of tuple or lists,each consisting of population and weights.weighted_cartesian_choice returns a list \n",
    "    #with a chocie from each population\n",
    "    \n",
    "    res = []\n",
    "    for population, weights in iterables:\n",
    "     #normalize weight:\n",
    "        weights = np.array(weights) / sum(weights)\n",
    "        lst = np.random.choice(population, p=weights)\n",
    "        res.append(lst)\n",
    "    return res\n",
    "\n",
    "gender = (['male','female'], \n",
    "          [0.3, 0.7])\n",
    "\n",
    "age = (['0-10','10-20','20-30','30-40','40-50','50-60','60-70','70-80','80-90','90-100'], \n",
    "       [.08,.05,.07,.18,.05,.16,.06,.19,.07,.09])\n",
    "race = (['White','Hispanic', 'Black','Asian'], \n",
    "        [.32,.28,.22,.18])\n",
    "side_effects = (['No Side Effects', 'Mild Side Effects', 'Moderate Side Effects', 'Severe Side Effects', 'Extremely Severe Side Effects'], \n",
    "               [.12,.20,.28,.22,.18])\n",
    "\n",
    "list=[]\n",
    "for i in range(400000):\n",
    "    res = weighted_cartesian_choice(gender,\n",
    "                                    age,\n",
    "                                    race,\n",
    "                                    side_effects)\n",
    "    list.append(res)\n",
    "  "
   ]
  },
  {
   "cell_type": "markdown",
   "metadata": {},
   "source": [
    "newdata=pd.DataFrame(list, columns = ['gender','age','race','side_effects'])"
   ]
  },
  {
   "cell_type": "markdown",
   "metadata": {},
   "source": [
    "newdata.head(40)"
   ]
  },
  {
   "cell_type": "markdown",
   "metadata": {},
   "source": [
    " data = pd.concat([data2, newdata], axis=1).reindex(newdata.index)"
   ]
  },
  {
   "cell_type": "markdown",
   "metadata": {},
   "source": [
    "data.head()"
   ]
  },
  {
   "cell_type": "markdown",
   "metadata": {},
   "source": [
    "sample_dataset = data.to_csv(\"dataset.csv\",index=False)"
   ]
  },
  {
   "cell_type": "code",
   "execution_count": 3,
   "metadata": {},
   "outputs": [],
   "source": [
    "import warnings\n",
    "warnings.filterwarnings('ignore')"
   ]
  },
  {
   "cell_type": "code",
   "execution_count": 4,
   "metadata": {},
   "outputs": [],
   "source": [
    "# Reading Dataset"
   ]
  },
  {
   "cell_type": "code",
   "execution_count": 5,
   "metadata": {},
   "outputs": [],
   "source": [
    "data = pd.read_csv('dataset.csv')"
   ]
  },
  {
   "cell_type": "code",
   "execution_count": 6,
   "metadata": {},
   "outputs": [],
   "source": [
    "# Features"
   ]
  },
  {
   "cell_type": "markdown",
   "metadata": {},
   "source": [
    "data.head()"
   ]
  },
  {
   "cell_type": "markdown",
   "metadata": {},
   "source": [
    "data.shape"
   ]
  },
  {
   "cell_type": "markdown",
   "metadata": {},
   "source": [
    "data.info()"
   ]
  },
  {
   "cell_type": "markdown",
   "metadata": {},
   "source": [
    "data['age'].value_counts()"
   ]
  },
  {
   "cell_type": "markdown",
   "metadata": {},
   "source": [
    "data['gender'].value_counts()"
   ]
  },
  {
   "cell_type": "markdown",
   "metadata": {},
   "source": [
    "data['race'].value_counts()"
   ]
  },
  {
   "cell_type": "markdown",
   "metadata": {},
   "source": [
    "data['side_effects'].value_counts()"
   ]
  },
  {
   "cell_type": "code",
   "execution_count": 7,
   "metadata": {},
   "outputs": [],
   "source": [
    "# The correlation between craeted features is low, so mapping is done for improving accuracy"
   ]
  },
  {
   "cell_type": "code",
   "execution_count": 8,
   "metadata": {},
   "outputs": [],
   "source": [
    "data.loc[data['age'] == '0-10', 'age_score'] = '6'  \n",
    "data.loc[data['age'] == '10-20', 'age_score'] = '2' \n",
    "data.loc[data['age'] == '20-30', 'age_score'] = '5'  \n",
    "data.loc[data['age'] == '30-40', 'age_score'] = '9'  \n",
    "data.loc[data['age'] == '40-50', 'age_score'] = '1' \n",
    "data.loc[data['age'] == '50-60', 'age_score'] = '8'  \n",
    "data.loc[data['age'] == '60-70', 'age_score'] = '3'  \n",
    "data.loc[data['age'] == '70-80', 'age_score'] = '10' \n",
    "data.loc[data['age'] == '80-90', 'age_score'] = '4'  \n",
    "data.loc[data['age'] == '90-100', 'age_score'] = '7'  "
   ]
  },
  {
   "cell_type": "code",
   "execution_count": 9,
   "metadata": {},
   "outputs": [],
   "source": [
    "data.loc[data['side_effects'] == 'Moderate Side Effects', 'sideeffects_score'] = '5'  \n",
    "data.loc[data['side_effects'] == 'Severe Side Effects', 'sideeffects_score'] = '4' \n",
    "data.loc[data['side_effects'] == 'Mild Side Effects', 'sideeffects_score'] = '3'  \n",
    "data.loc[data['side_effects'] == 'Extremely Severe Side Effects', 'sideeffects_score'] = '2'  \n",
    "data.loc[data['side_effects'] == 'No Side Effects', 'sideeffects_score'] = '1' "
   ]
  },
  {
   "cell_type": "code",
   "execution_count": 10,
   "metadata": {},
   "outputs": [],
   "source": [
    "data.loc[data['race'] == 'White', 'race_score'] = '4'  \n",
    "data.loc[data['race'] == 'Hispanic', 'race_score'] = '3' \n",
    "data.loc[data['race'] == 'Black', 'race_score'] = '2'  \n",
    "data.loc[data['race'] == 'Asian', 'race_score'] = '1'  \n"
   ]
  },
  {
   "cell_type": "code",
   "execution_count": 11,
   "metadata": {},
   "outputs": [],
   "source": [
    "data.loc[data['gender'] == 'male', 'gender_score'] = '4'  \n",
    "data.loc[data['gender'] == 'female', 'gender_score'] = '6' \n"
   ]
  },
  {
   "cell_type": "code",
   "execution_count": 12,
   "metadata": {},
   "outputs": [],
   "source": [
    "data = data.astype({'age_score': 'int','race_score': 'int','sideeffects_score': 'int','gender_score': 'int'})"
   ]
  },
  {
   "cell_type": "markdown",
   "metadata": {},
   "source": [
    "data.dtypes"
   ]
  },
  {
   "cell_type": "code",
   "execution_count": 13,
   "metadata": {},
   "outputs": [],
   "source": [
    "data['score']=data['age_score']+data['race_score']+data['sideeffects_score']+data['gender_score']"
   ]
  },
  {
   "cell_type": "code",
   "execution_count": 14,
   "metadata": {},
   "outputs": [],
   "source": [
    "data['average_score']=data['score']/2"
   ]
  },
  {
   "cell_type": "markdown",
   "metadata": {},
   "source": [
    "data"
   ]
  },
  {
   "cell_type": "markdown",
   "metadata": {},
   "source": [
    "data.dtypes"
   ]
  },
  {
   "cell_type": "code",
   "execution_count": 15,
   "metadata": {},
   "outputs": [],
   "source": [
    "# Visualisation"
   ]
  },
  {
   "cell_type": "markdown",
   "metadata": {},
   "source": [
    "count = data['side_effects'].value_counts()\n",
    "plt.figure(figsize=(10,5))\n",
    "sns.barplot(count.index, count.values, alpha=0.8, palette=\"prism\")\n",
    "plt.ylabel('Count', fontsize=12)\n",
    "plt.xlabel('side_effects', fontsize=12)\n",
    "plt.title('Side Effects of A Drug X')\n",
    "plt.show()"
   ]
  },
  {
   "cell_type": "code",
   "execution_count": 16,
   "metadata": {},
   "outputs": [],
   "source": [
    "# Feature- Race"
   ]
  },
  {
   "cell_type": "markdown",
   "metadata": {},
   "source": [
    "# Race types and its values Single Pie chart\n",
    "populations = data['race'].value_counts()\n",
    "pop_size = populations.values.tolist() #Provides numerical values\n",
    "pop_types = populations.axes[0].tolist() #Converts index labels object to list\n",
    "print(pop_size)\n",
    "# Data to plot\n",
    "pop_labels = 'White','Hispanic','Black','Asian'\n",
    "colors = ['#FEB8EA','#99ff99','#F75ECB','#FCE38A']\n",
    "explode = (0, 0.2,0,0)  # explode 1st slice\n",
    "fig = plt.figure(figsize=(10,5))\n",
    "# Plot\n",
    "plt.title('Race Type Percentange', fontsize=22)\n",
    "patches, texts, autotexts = plt.pie(pop_size, explode=explode, labels=pop_labels, colors=colors,\n",
    "        autopct='%1.1f%%', shadow=True, startangle=150)\n",
    "for text,autotext in zip(texts,autotexts):\n",
    "    text.set_fontsize(14)\n",
    "    autotext.set_fontsize(14)\n",
    "\n",
    "plt.axis('equal')\n",
    "plt.show()"
   ]
  },
  {
   "cell_type": "code",
   "execution_count": 17,
   "metadata": {},
   "outputs": [],
   "source": [
    "fe=data.groupby('race').size()/len(data)\n",
    "data.loc[:, 'race_fe']=data['race'].map(fe)"
   ]
  },
  {
   "cell_type": "code",
   "execution_count": 18,
   "metadata": {},
   "outputs": [],
   "source": [
    "fe=data.groupby('gender').size()/len(data)\n",
    "data.loc[:, 'gender_fe']=data['gender'].map(fe)"
   ]
  },
  {
   "cell_type": "code",
   "execution_count": 19,
   "metadata": {},
   "outputs": [],
   "source": [
    "fe=data.groupby('age').size()/len(data)\n",
    "data.loc[:, 'age_fe']=data['age'].map(fe)"
   ]
  },
  {
   "cell_type": "code",
   "execution_count": 20,
   "metadata": {},
   "outputs": [
    {
     "data": {
      "text/html": [
       "<div>\n",
       "<style scoped>\n",
       "    .dataframe tbody tr th:only-of-type {\n",
       "        vertical-align: middle;\n",
       "    }\n",
       "\n",
       "    .dataframe tbody tr th {\n",
       "        vertical-align: top;\n",
       "    }\n",
       "\n",
       "    .dataframe thead th {\n",
       "        text-align: right;\n",
       "    }\n",
       "</style>\n",
       "<table border=\"1\" class=\"dataframe\">\n",
       "  <thead>\n",
       "    <tr style=\"text-align: right;\">\n",
       "      <th></th>\n",
       "      <th>name</th>\n",
       "      <th>side_effects</th>\n",
       "      <th>age_score</th>\n",
       "      <th>sideeffects_score</th>\n",
       "      <th>race_score</th>\n",
       "      <th>gender_score</th>\n",
       "      <th>score</th>\n",
       "      <th>average_score</th>\n",
       "      <th>race_fe</th>\n",
       "      <th>gender_fe</th>\n",
       "      <th>age_fe</th>\n",
       "    </tr>\n",
       "  </thead>\n",
       "  <tbody>\n",
       "    <tr>\n",
       "      <th>0</th>\n",
       "      <td>Pamela Ingram</td>\n",
       "      <td>No Side Effects</td>\n",
       "      <td>9</td>\n",
       "      <td>1</td>\n",
       "      <td>1</td>\n",
       "      <td>6</td>\n",
       "      <td>17</td>\n",
       "      <td>8.5</td>\n",
       "      <td>0.180333</td>\n",
       "      <td>0.698295</td>\n",
       "      <td>0.180055</td>\n",
       "    </tr>\n",
       "    <tr>\n",
       "      <th>1</th>\n",
       "      <td>Mark Mcdonald</td>\n",
       "      <td>Mild Side Effects</td>\n",
       "      <td>7</td>\n",
       "      <td>3</td>\n",
       "      <td>3</td>\n",
       "      <td>6</td>\n",
       "      <td>19</td>\n",
       "      <td>9.5</td>\n",
       "      <td>0.279803</td>\n",
       "      <td>0.698295</td>\n",
       "      <td>0.090100</td>\n",
       "    </tr>\n",
       "    <tr>\n",
       "      <th>2</th>\n",
       "      <td>Christian Perez</td>\n",
       "      <td>Severe Side Effects</td>\n",
       "      <td>5</td>\n",
       "      <td>4</td>\n",
       "      <td>3</td>\n",
       "      <td>4</td>\n",
       "      <td>16</td>\n",
       "      <td>8.0</td>\n",
       "      <td>0.279803</td>\n",
       "      <td>0.301705</td>\n",
       "      <td>0.070178</td>\n",
       "    </tr>\n",
       "    <tr>\n",
       "      <th>3</th>\n",
       "      <td>Amy Middleton</td>\n",
       "      <td>No Side Effects</td>\n",
       "      <td>7</td>\n",
       "      <td>1</td>\n",
       "      <td>1</td>\n",
       "      <td>6</td>\n",
       "      <td>15</td>\n",
       "      <td>7.5</td>\n",
       "      <td>0.180333</td>\n",
       "      <td>0.698295</td>\n",
       "      <td>0.090100</td>\n",
       "    </tr>\n",
       "    <tr>\n",
       "      <th>4</th>\n",
       "      <td>Nicole Davis</td>\n",
       "      <td>Moderate Side Effects</td>\n",
       "      <td>10</td>\n",
       "      <td>5</td>\n",
       "      <td>1</td>\n",
       "      <td>4</td>\n",
       "      <td>20</td>\n",
       "      <td>10.0</td>\n",
       "      <td>0.180333</td>\n",
       "      <td>0.301705</td>\n",
       "      <td>0.188663</td>\n",
       "    </tr>\n",
       "    <tr>\n",
       "      <th>...</th>\n",
       "      <td>...</td>\n",
       "      <td>...</td>\n",
       "      <td>...</td>\n",
       "      <td>...</td>\n",
       "      <td>...</td>\n",
       "      <td>...</td>\n",
       "      <td>...</td>\n",
       "      <td>...</td>\n",
       "      <td>...</td>\n",
       "      <td>...</td>\n",
       "      <td>...</td>\n",
       "    </tr>\n",
       "    <tr>\n",
       "      <th>399995</th>\n",
       "      <td>Phyllis Murphy</td>\n",
       "      <td>Moderate Side Effects</td>\n",
       "      <td>10</td>\n",
       "      <td>5</td>\n",
       "      <td>4</td>\n",
       "      <td>4</td>\n",
       "      <td>23</td>\n",
       "      <td>11.5</td>\n",
       "      <td>0.319153</td>\n",
       "      <td>0.301705</td>\n",
       "      <td>0.188663</td>\n",
       "    </tr>\n",
       "    <tr>\n",
       "      <th>399996</th>\n",
       "      <td>Jennifer Bowen</td>\n",
       "      <td>No Side Effects</td>\n",
       "      <td>6</td>\n",
       "      <td>1</td>\n",
       "      <td>4</td>\n",
       "      <td>6</td>\n",
       "      <td>17</td>\n",
       "      <td>8.5</td>\n",
       "      <td>0.319153</td>\n",
       "      <td>0.698295</td>\n",
       "      <td>0.080092</td>\n",
       "    </tr>\n",
       "    <tr>\n",
       "      <th>399997</th>\n",
       "      <td>Kelly Sutton</td>\n",
       "      <td>Mild Side Effects</td>\n",
       "      <td>9</td>\n",
       "      <td>3</td>\n",
       "      <td>1</td>\n",
       "      <td>6</td>\n",
       "      <td>19</td>\n",
       "      <td>9.5</td>\n",
       "      <td>0.180333</td>\n",
       "      <td>0.698295</td>\n",
       "      <td>0.180055</td>\n",
       "    </tr>\n",
       "    <tr>\n",
       "      <th>399998</th>\n",
       "      <td>Tara Washington</td>\n",
       "      <td>Mild Side Effects</td>\n",
       "      <td>8</td>\n",
       "      <td>3</td>\n",
       "      <td>4</td>\n",
       "      <td>6</td>\n",
       "      <td>21</td>\n",
       "      <td>10.5</td>\n",
       "      <td>0.319153</td>\n",
       "      <td>0.698295</td>\n",
       "      <td>0.160510</td>\n",
       "    </tr>\n",
       "    <tr>\n",
       "      <th>399999</th>\n",
       "      <td>Joseph Henry</td>\n",
       "      <td>Moderate Side Effects</td>\n",
       "      <td>9</td>\n",
       "      <td>5</td>\n",
       "      <td>1</td>\n",
       "      <td>6</td>\n",
       "      <td>21</td>\n",
       "      <td>10.5</td>\n",
       "      <td>0.180333</td>\n",
       "      <td>0.698295</td>\n",
       "      <td>0.180055</td>\n",
       "    </tr>\n",
       "  </tbody>\n",
       "</table>\n",
       "<p>400000 rows × 11 columns</p>\n",
       "</div>"
      ],
      "text/plain": [
       "                   name           side_effects  age_score  sideeffects_score  \\\n",
       "0         Pamela Ingram        No Side Effects          9                  1   \n",
       "1         Mark Mcdonald      Mild Side Effects          7                  3   \n",
       "2       Christian Perez    Severe Side Effects          5                  4   \n",
       "3         Amy Middleton        No Side Effects          7                  1   \n",
       "4          Nicole Davis  Moderate Side Effects         10                  5   \n",
       "...                 ...                    ...        ...                ...   \n",
       "399995   Phyllis Murphy  Moderate Side Effects         10                  5   \n",
       "399996   Jennifer Bowen        No Side Effects          6                  1   \n",
       "399997     Kelly Sutton      Mild Side Effects          9                  3   \n",
       "399998  Tara Washington      Mild Side Effects          8                  3   \n",
       "399999     Joseph Henry  Moderate Side Effects          9                  5   \n",
       "\n",
       "        race_score  gender_score  score  average_score   race_fe  gender_fe  \\\n",
       "0                1             6     17            8.5  0.180333   0.698295   \n",
       "1                3             6     19            9.5  0.279803   0.698295   \n",
       "2                3             4     16            8.0  0.279803   0.301705   \n",
       "3                1             6     15            7.5  0.180333   0.698295   \n",
       "4                1             4     20           10.0  0.180333   0.301705   \n",
       "...            ...           ...    ...            ...       ...        ...   \n",
       "399995           4             4     23           11.5  0.319153   0.301705   \n",
       "399996           4             6     17            8.5  0.319153   0.698295   \n",
       "399997           1             6     19            9.5  0.180333   0.698295   \n",
       "399998           4             6     21           10.5  0.319153   0.698295   \n",
       "399999           1             6     21           10.5  0.180333   0.698295   \n",
       "\n",
       "          age_fe  \n",
       "0       0.180055  \n",
       "1       0.090100  \n",
       "2       0.070178  \n",
       "3       0.090100  \n",
       "4       0.188663  \n",
       "...          ...  \n",
       "399995  0.188663  \n",
       "399996  0.080092  \n",
       "399997  0.180055  \n",
       "399998  0.160510  \n",
       "399999  0.180055  \n",
       "\n",
       "[400000 rows x 11 columns]"
      ]
     },
     "execution_count": 20,
     "metadata": {},
     "output_type": "execute_result"
    }
   ],
   "source": [
    "data=data.drop(['patient_id','race','gender','age'],axis=1)\n",
    "data"
   ]
  },
  {
   "cell_type": "markdown",
   "metadata": {},
   "source": [
    "data.columns"
   ]
  },
  {
   "cell_type": "markdown",
   "metadata": {},
   "source": [
    "data.shape"
   ]
  },
  {
   "cell_type": "code",
   "execution_count": 21,
   "metadata": {},
   "outputs": [
    {
     "data": {
      "text/html": [
       "<div>\n",
       "<style scoped>\n",
       "    .dataframe tbody tr th:only-of-type {\n",
       "        vertical-align: middle;\n",
       "    }\n",
       "\n",
       "    .dataframe tbody tr th {\n",
       "        vertical-align: top;\n",
       "    }\n",
       "\n",
       "    .dataframe thead th {\n",
       "        text-align: right;\n",
       "    }\n",
       "</style>\n",
       "<table border=\"1\" class=\"dataframe\">\n",
       "  <thead>\n",
       "    <tr style=\"text-align: right;\">\n",
       "      <th></th>\n",
       "      <th>side_effects</th>\n",
       "      <th>average_score</th>\n",
       "      <th>race_fe</th>\n",
       "      <th>gender_fe</th>\n",
       "      <th>age_fe</th>\n",
       "    </tr>\n",
       "  </thead>\n",
       "  <tbody>\n",
       "    <tr>\n",
       "      <th>0</th>\n",
       "      <td>No Side Effects</td>\n",
       "      <td>8.5</td>\n",
       "      <td>0.180333</td>\n",
       "      <td>0.698295</td>\n",
       "      <td>0.180055</td>\n",
       "    </tr>\n",
       "    <tr>\n",
       "      <th>1</th>\n",
       "      <td>Mild Side Effects</td>\n",
       "      <td>9.5</td>\n",
       "      <td>0.279803</td>\n",
       "      <td>0.698295</td>\n",
       "      <td>0.090100</td>\n",
       "    </tr>\n",
       "    <tr>\n",
       "      <th>2</th>\n",
       "      <td>Severe Side Effects</td>\n",
       "      <td>8.0</td>\n",
       "      <td>0.279803</td>\n",
       "      <td>0.301705</td>\n",
       "      <td>0.070178</td>\n",
       "    </tr>\n",
       "    <tr>\n",
       "      <th>3</th>\n",
       "      <td>No Side Effects</td>\n",
       "      <td>7.5</td>\n",
       "      <td>0.180333</td>\n",
       "      <td>0.698295</td>\n",
       "      <td>0.090100</td>\n",
       "    </tr>\n",
       "    <tr>\n",
       "      <th>4</th>\n",
       "      <td>Moderate Side Effects</td>\n",
       "      <td>10.0</td>\n",
       "      <td>0.180333</td>\n",
       "      <td>0.301705</td>\n",
       "      <td>0.188663</td>\n",
       "    </tr>\n",
       "    <tr>\n",
       "      <th>...</th>\n",
       "      <td>...</td>\n",
       "      <td>...</td>\n",
       "      <td>...</td>\n",
       "      <td>...</td>\n",
       "      <td>...</td>\n",
       "    </tr>\n",
       "    <tr>\n",
       "      <th>399995</th>\n",
       "      <td>Moderate Side Effects</td>\n",
       "      <td>11.5</td>\n",
       "      <td>0.319153</td>\n",
       "      <td>0.301705</td>\n",
       "      <td>0.188663</td>\n",
       "    </tr>\n",
       "    <tr>\n",
       "      <th>399996</th>\n",
       "      <td>No Side Effects</td>\n",
       "      <td>8.5</td>\n",
       "      <td>0.319153</td>\n",
       "      <td>0.698295</td>\n",
       "      <td>0.080092</td>\n",
       "    </tr>\n",
       "    <tr>\n",
       "      <th>399997</th>\n",
       "      <td>Mild Side Effects</td>\n",
       "      <td>9.5</td>\n",
       "      <td>0.180333</td>\n",
       "      <td>0.698295</td>\n",
       "      <td>0.180055</td>\n",
       "    </tr>\n",
       "    <tr>\n",
       "      <th>399998</th>\n",
       "      <td>Mild Side Effects</td>\n",
       "      <td>10.5</td>\n",
       "      <td>0.319153</td>\n",
       "      <td>0.698295</td>\n",
       "      <td>0.160510</td>\n",
       "    </tr>\n",
       "    <tr>\n",
       "      <th>399999</th>\n",
       "      <td>Moderate Side Effects</td>\n",
       "      <td>10.5</td>\n",
       "      <td>0.180333</td>\n",
       "      <td>0.698295</td>\n",
       "      <td>0.180055</td>\n",
       "    </tr>\n",
       "  </tbody>\n",
       "</table>\n",
       "<p>400000 rows × 5 columns</p>\n",
       "</div>"
      ],
      "text/plain": [
       "                 side_effects  average_score   race_fe  gender_fe    age_fe\n",
       "0             No Side Effects            8.5  0.180333   0.698295  0.180055\n",
       "1           Mild Side Effects            9.5  0.279803   0.698295  0.090100\n",
       "2         Severe Side Effects            8.0  0.279803   0.301705  0.070178\n",
       "3             No Side Effects            7.5  0.180333   0.698295  0.090100\n",
       "4       Moderate Side Effects           10.0  0.180333   0.301705  0.188663\n",
       "...                       ...            ...       ...        ...       ...\n",
       "399995  Moderate Side Effects           11.5  0.319153   0.301705  0.188663\n",
       "399996        No Side Effects            8.5  0.319153   0.698295  0.080092\n",
       "399997      Mild Side Effects            9.5  0.180333   0.698295  0.180055\n",
       "399998      Mild Side Effects           10.5  0.319153   0.698295  0.160510\n",
       "399999  Moderate Side Effects           10.5  0.180333   0.698295  0.180055\n",
       "\n",
       "[400000 rows x 5 columns]"
      ]
     },
     "execution_count": 21,
     "metadata": {},
     "output_type": "execute_result"
    }
   ],
   "source": [
    "data=data.drop(['name','age_score','race_score','sideeffects_score','gender_score', 'score'],axis=1)\n",
    "data"
   ]
  },
  {
   "cell_type": "code",
   "execution_count": 22,
   "metadata": {},
   "outputs": [],
   "source": [
    "#Encoding Side Effects feature"
   ]
  },
  {
   "cell_type": "code",
   "execution_count": 23,
   "metadata": {},
   "outputs": [
    {
     "name": "stdout",
     "output_type": "stream",
     "text": [
      "0         3\n",
      "1         1\n",
      "2         4\n",
      "3         3\n",
      "4         2\n",
      "         ..\n",
      "399995    2\n",
      "399996    3\n",
      "399997    1\n",
      "399998    1\n",
      "399999    2\n",
      "Name: side_effects, Length: 400000, dtype: int32\n"
     ]
    }
   ],
   "source": [
    "from sklearn.preprocessing import LabelEncoder\n",
    "encoder=LabelEncoder()\n",
    "encoder.fit(data[\"side_effects\"])\n",
    "data[\"side_effects\"]=encoder.transform(data[\"side_effects\"])\n",
    "print(data[\"side_effects\"])"
   ]
  },
  {
   "cell_type": "markdown",
   "metadata": {},
   "source": [
    "data.info()"
   ]
  },
  {
   "cell_type": "markdown",
   "metadata": {},
   "source": [
    "data.describe()"
   ]
  },
  {
   "cell_type": "code",
   "execution_count": 24,
   "metadata": {},
   "outputs": [
    {
     "data": {
      "image/png": "[encoded data removed]",
      "text/plain": [
       "<Figure size 576x360 with 2 Axes>"
      ]
     },
     "metadata": {
      "needs_background": "light"
     },
     "output_type": "display_data"
    }
   ],
   "source": [
    "corrmatrix=data.corr()\n",
    "plt.subplots(figsize=(8,5))\n",
    "sns.heatmap(data.corr(),linewidths=.1,cmap=\"YlGnBu\", annot=True)\n",
    "plt.yticks(rotation=0);"
   ]
  },
  {
   "cell_type": "markdown",
   "metadata": {},
   "source": [
    "corrmatrix.iloc[0]"
   ]
  },
  {
   "cell_type": "code",
   "execution_count": 25,
   "metadata": {},
   "outputs": [],
   "source": [
    "# Target and Features"
   ]
  },
  {
   "cell_type": "code",
   "execution_count": 26,
   "metadata": {},
   "outputs": [
    {
     "data": {
      "text/html": [
       "<div>\n",
       "<style scoped>\n",
       "    .dataframe tbody tr th:only-of-type {\n",
       "        vertical-align: middle;\n",
       "    }\n",
       "\n",
       "    .dataframe tbody tr th {\n",
       "        vertical-align: top;\n",
       "    }\n",
       "\n",
       "    .dataframe thead th {\n",
       "        text-align: right;\n",
       "    }\n",
       "</style>\n",
       "<table border=\"1\" class=\"dataframe\">\n",
       "  <thead>\n",
       "    <tr style=\"text-align: right;\">\n",
       "      <th></th>\n",
       "      <th>average_score</th>\n",
       "      <th>race_fe</th>\n",
       "      <th>gender_fe</th>\n",
       "      <th>age_fe</th>\n",
       "    </tr>\n",
       "  </thead>\n",
       "  <tbody>\n",
       "    <tr>\n",
       "      <th>0</th>\n",
       "      <td>8.5</td>\n",
       "      <td>0.180333</td>\n",
       "      <td>0.698295</td>\n",
       "      <td>0.180055</td>\n",
       "    </tr>\n",
       "    <tr>\n",
       "      <th>1</th>\n",
       "      <td>9.5</td>\n",
       "      <td>0.279803</td>\n",
       "      <td>0.698295</td>\n",
       "      <td>0.090100</td>\n",
       "    </tr>\n",
       "    <tr>\n",
       "      <th>2</th>\n",
       "      <td>8.0</td>\n",
       "      <td>0.279803</td>\n",
       "      <td>0.301705</td>\n",
       "      <td>0.070178</td>\n",
       "    </tr>\n",
       "    <tr>\n",
       "      <th>3</th>\n",
       "      <td>7.5</td>\n",
       "      <td>0.180333</td>\n",
       "      <td>0.698295</td>\n",
       "      <td>0.090100</td>\n",
       "    </tr>\n",
       "    <tr>\n",
       "      <th>4</th>\n",
       "      <td>10.0</td>\n",
       "      <td>0.180333</td>\n",
       "      <td>0.301705</td>\n",
       "      <td>0.188663</td>\n",
       "    </tr>\n",
       "  </tbody>\n",
       "</table>\n",
       "</div>"
      ],
      "text/plain": [
       "   average_score   race_fe  gender_fe    age_fe\n",
       "0            8.5  0.180333   0.698295  0.180055\n",
       "1            9.5  0.279803   0.698295  0.090100\n",
       "2            8.0  0.279803   0.301705  0.070178\n",
       "3            7.5  0.180333   0.698295  0.090100\n",
       "4           10.0  0.180333   0.301705  0.188663"
      ]
     },
     "execution_count": 26,
     "metadata": {},
     "output_type": "execute_result"
    }
   ],
   "source": [
    "x=data.drop('side_effects',axis=1)\n",
    "y=data['side_effects'] \n",
    "x.head()"
   ]
  },
  {
   "cell_type": "code",
   "execution_count": 27,
   "metadata": {},
   "outputs": [
    {
     "data": {
      "text/plain": [
       "average_score    float64\n",
       "race_fe          float64\n",
       "gender_fe        float64\n",
       "age_fe           float64\n",
       "dtype: object"
      ]
     },
     "execution_count": 27,
     "metadata": {},
     "output_type": "execute_result"
    }
   ],
   "source": [
    "x.dtypes"
   ]
  },
  {
   "cell_type": "code",
   "execution_count": 28,
   "metadata": {},
   "outputs": [],
   "source": [
    "#Splitting the dataset\n",
    "#training the dataset"
   ]
  },
  {
   "cell_type": "code",
   "execution_count": 29,
   "metadata": {},
   "outputs": [],
   "source": [
    "from sklearn.model_selection import train_test_split\n",
    "x_train, x_test, y_train, y_test = train_test_split(x, y, test_size=0.35, random_state=42)"
   ]
  },
  {
   "cell_type": "code",
   "execution_count": 53,
   "metadata": {},
   "outputs": [
    {
     "data": {
      "text/plain": [
       "(400000, 4)"
      ]
     },
     "execution_count": 53,
     "metadata": {},
     "output_type": "execute_result"
    }
   ],
   "source": [
    "x.shape"
   ]
  },
  {
   "cell_type": "code",
   "execution_count": 54,
   "metadata": {},
   "outputs": [
    {
     "data": {
      "text/plain": [
       "(260000, 4)"
      ]
     },
     "execution_count": 54,
     "metadata": {},
     "output_type": "execute_result"
    }
   ],
   "source": [
    "x_train.shape"
   ]
  },
  {
   "cell_type": "code",
   "execution_count": 55,
   "metadata": {},
   "outputs": [
    {
     "data": {
      "text/plain": [
       "(140000, 4)"
      ]
     },
     "execution_count": 55,
     "metadata": {},
     "output_type": "execute_result"
    }
   ],
   "source": [
    "x_test.shape"
   ]
  },
  {
   "cell_type": "code",
   "execution_count": 56,
   "metadata": {},
   "outputs": [
    {
     "data": {
      "text/plain": [
       "(260000,)"
      ]
     },
     "execution_count": 56,
     "metadata": {},
     "output_type": "execute_result"
    }
   ],
   "source": [
    "y_train.shape"
   ]
  },
  {
   "cell_type": "code",
   "execution_count": 57,
   "metadata": {},
   "outputs": [
    {
     "data": {
      "text/plain": [
       "(140000,)"
      ]
     },
     "execution_count": 57,
     "metadata": {},
     "output_type": "execute_result"
    }
   ],
   "source": [
    "y_test.shape"
   ]
  },
  {
   "cell_type": "code",
   "execution_count": 30,
   "metadata": {},
   "outputs": [],
   "source": [
    "# LR"
   ]
  },
  {
   "cell_type": "code",
   "execution_count": 31,
   "metadata": {},
   "outputs": [],
   "source": [
    "from sklearn.metrics import confusion_matrix, accuracy_score,precision_score,recall_score,f1_score"
   ]
  },
  {
   "cell_type": "code",
   "execution_count": 32,
   "metadata": {},
   "outputs": [],
   "source": [
    "from sklearn.linear_model import LogisticRegression\n",
    "logit_model = LogisticRegression()\n",
    "logit_model.fit(x_train, y_train)\n",
    "y_predlr = logit_model.predict(x_test)"
   ]
  },
  {
   "cell_type": "code",
   "execution_count": 33,
   "metadata": {},
   "outputs": [
    {
     "name": "stdout",
     "output_type": "stream",
     "text": [
      "0.5829571428571428\n"
     ]
    }
   ],
   "source": [
    "print(accuracy_score(y_test,y_predlr))"
   ]
  },
  {
   "cell_type": "code",
   "execution_count": 34,
   "metadata": {},
   "outputs": [],
   "source": [
    "#Decision Tree"
   ]
  },
  {
   "cell_type": "code",
   "execution_count": 35,
   "metadata": {},
   "outputs": [
    {
     "name": "stdout",
     "output_type": "stream",
     "text": [
      "1.0\n"
     ]
    }
   ],
   "source": [
    "from sklearn import tree\n",
    "clf=tree.DecisionTreeClassifier()\n",
    "clf.fit(x_train,y_train)\n",
    "y_preddt=clf.predict(x_test)\n",
    "from sklearn.metrics import accuracy_score\n",
    "print(accuracy_score(y_test,y_preddt))"
   ]
  },
  {
   "cell_type": "code",
   "execution_count": 36,
   "metadata": {},
   "outputs": [
    {
     "name": "stdout",
     "output_type": "stream",
     "text": [
      "23218     0\n",
      "20731     2\n",
      "39555     1\n",
      "147506    4\n",
      "314215    0\n",
      "         ..\n",
      "362985    4\n",
      "124599    1\n",
      "291845    1\n",
      "365050    2\n",
      "138199    4\n",
      "Name: side_effects, Length: 140000, dtype: int32 [0 2 1 ... 1 2 4]\n"
     ]
    }
   ],
   "source": [
    "y_pred=clf.predict(x_test)\n",
    "print(y_test, y_preddt)"
   ]
  },
  {
   "cell_type": "code",
   "execution_count": 37,
   "metadata": {},
   "outputs": [
    {
     "data": {
      "image/png": "[encoded data removed]",
      "text/plain": [
       "<Figure size 432x288 with 1 Axes>"
      ]
     },
     "metadata": {
      "needs_background": "light"
     },
     "output_type": "display_data"
    }
   ],
   "source": [
    "cfm=confusion_matrix(y_test, y_pred)\n",
    "sns.heatmap(cfm, annot = True,  linewidths=.5, cbar =None)\n",
    "plt.title('Decision Tree Classifier confusion matrix')\n",
    "plt.ylabel('True label')\n",
    "plt.xlabel('Predicted label');"
   ]
  },
  {
   "cell_type": "code",
   "execution_count": 38,
   "metadata": {},
   "outputs": [
    {
     "data": {
      "image/png": "[encoded data removed]",
      "text/plain": [
       "<Figure size 360x504 with 1 Axes>"
      ]
     },
     "metadata": {
      "needs_background": "light"
     },
     "output_type": "display_data"
    }
   ],
   "source": [
    "features_list = x.columns.values\n",
    "feature_importance = clf.feature_importances_\n",
    "sorted_idx = np.argsort(feature_importance)\n",
    "\n",
    "plt.figure(figsize=(5,7))\n",
    "plt.barh(range(len(sorted_idx)), feature_importance[sorted_idx], align='center')\n",
    "plt.yticks(range(len(sorted_idx)), features_list[sorted_idx])\n",
    "plt.xlabel('Importance')\n",
    "plt.title('Feature importance - DTC')\n",
    "plt.draw()\n",
    "plt.show()"
   ]
  },
  {
   "cell_type": "markdown",
   "metadata": {},
   "source": [
    "#Extra Trees Classifier"
   ]
  },
  {
   "cell_type": "markdown",
   "metadata": {},
   "source": [
    "from sklearn.ensemble import ExtraTreesClassifier\n",
    "import matplotlib.pyplot as plt\n",
    "modelext = ExtraTreesClassifier()\n",
    "modelext.fit(x_train,y_train)  "
   ]
  },
  {
   "cell_type": "markdown",
   "metadata": {},
   "source": [
    "y_predext=modelext.predict(x_test)\n",
    "print(y_test, y_predext)"
   ]
  },
  {
   "cell_type": "markdown",
   "metadata": {},
   "source": [
    "print('accuracy is:', accuracy_score(y_test,y_predext))"
   ]
  },
  {
   "cell_type": "markdown",
   "metadata": {},
   "source": [
    "print(modelext.feature_importances_)"
   ]
  },
  {
   "cell_type": "markdown",
   "metadata": {},
   "source": [
    "ranked_features=pd.Series(modelext.feature_importances_,index=x.columns)"
   ]
  },
  {
   "cell_type": "markdown",
   "metadata": {},
   "source": [
    "ranked_features.nlargest(21).plot(kind='barh') \n",
    "plt.show()"
   ]
  },
  {
   "cell_type": "code",
   "execution_count": 39,
   "metadata": {},
   "outputs": [],
   "source": [
    "# Random Forest"
   ]
  },
  {
   "cell_type": "code",
   "execution_count": 40,
   "metadata": {},
   "outputs": [],
   "source": [
    "from sklearn.model_selection import train_test_split\n",
    "x_train, x_test, y_train, y_test = train_test_split(x, y, test_size=0.35, random_state=42)"
   ]
  },
  {
   "cell_type": "code",
   "execution_count": 41,
   "metadata": {},
   "outputs": [
    {
     "name": "stdout",
     "output_type": "stream",
     "text": [
      "Accuracy: 1.0\n"
     ]
    }
   ],
   "source": [
    "from sklearn.ensemble import RandomForestClassifier\n",
    "rf=RandomForestClassifier()\n",
    "rf.fit(x_train,y_train.values.ravel())\n",
    "y_predrf=rf.predict(x_test)\n",
    "from sklearn import metrics\n",
    "print(\"Accuracy:\",metrics.accuracy_score(y_test, y_predrf))"
   ]
  },
  {
   "cell_type": "code",
   "execution_count": 42,
   "metadata": {},
   "outputs": [
    {
     "data": {
      "text/plain": [
       "array([1., 1., 1., 1., 1.])"
      ]
     },
     "execution_count": 42,
     "metadata": {},
     "output_type": "execute_result"
    }
   ],
   "source": [
    "from sklearn.metrics import f1_score,confusion_matrix\n",
    "f1_score(y_test,y_predrf, average='macro' )\n",
    "f1_score(y_test, y_predrf, average='micro')\n",
    "f1_score(y_test, y_predrf, average='weighted')\n",
    "f1_score(y_test, y_predrf, average=None)"
   ]
  },
  {
   "cell_type": "code",
   "execution_count": 43,
   "metadata": {},
   "outputs": [
    {
     "data": {
      "text/plain": [
       "array([[25159,     0,     0,     0,     0],\n",
       "       [    0, 28194,     0,     0,     0],\n",
       "       [    0,     0, 39090,     0,     0],\n",
       "       [    0,     0,     0, 16857,     0],\n",
       "       [    0,     0,     0,     0, 30700]], dtype=int64)"
      ]
     },
     "execution_count": 43,
     "metadata": {},
     "output_type": "execute_result"
    }
   ],
   "source": [
    "confusion_matrix(y_test,y_predrf)"
   ]
  },
  {
   "cell_type": "code",
   "execution_count": 44,
   "metadata": {},
   "outputs": [
    {
     "data": {
      "text/plain": [
       "1.0"
      ]
     },
     "execution_count": 44,
     "metadata": {},
     "output_type": "execute_result"
    }
   ],
   "source": [
    "accuracy_score(y_test,y_predrf)"
   ]
  },
  {
   "cell_type": "code",
   "execution_count": 45,
   "metadata": {},
   "outputs": [],
   "source": [
    "#Feature Importance in Random Forest"
   ]
  },
  {
   "cell_type": "code",
   "execution_count": 46,
   "metadata": {},
   "outputs": [
    {
     "data": {
      "image/png": "[encoded data removed]",
      "text/plain": [
       "<Figure size 432x288 with 1 Axes>"
      ]
     },
     "metadata": {
      "needs_background": "light"
     },
     "output_type": "display_data"
    }
   ],
   "source": [
    "important_features = pd.DataFrame({'Features': x_train.columns, \n",
    "                                   'Importance': rf.feature_importances_})\n",
    "\n",
    "# sort the dataframe in the descending order according to the feature importance\n",
    "important_features = important_features.sort_values('Importance', ascending = False)\n",
    "\n",
    "# create a barplot to visualize the features based on their importance\n",
    "sns.barplot(x = 'Importance', y = 'Features', data = important_features[0:20])\n",
    "\n",
    "# add plot and axes labels\n",
    "# set text size using 'fontsize'\n",
    "plt.title('Feature Importance - RFC', fontsize = 15)\n",
    "plt.xlabel('Importance', fontsize = 15)\n",
    "plt.ylabel('Features', fontsize = 15)\n",
    "\n",
    "# display the plot\n",
    "plt.show()"
   ]
  },
  {
   "cell_type": "code",
   "execution_count": 47,
   "metadata": {},
   "outputs": [],
   "source": [
    "# Hyperparameter tuning of random forest"
   ]
  },
  {
   "cell_type": "code",
   "execution_count": 48,
   "metadata": {},
   "outputs": [
    {
     "data": {
      "text/plain": [
       "RandomForestClassifier(max_depth=7, max_features=4, min_samples_leaf=2,\n",
       "                       min_samples_split=5, n_estimators=1500, n_jobs=1,\n",
       "                       random_state=42)"
      ]
     },
     "execution_count": 48,
     "metadata": {},
     "output_type": "execute_result"
    }
   ],
   "source": [
    "from sklearn.ensemble import RandomForestClassifier\n",
    "rfh = RandomForestClassifier(max_depth=7, max_features=4, min_samples_leaf=2,\n",
    "                      min_samples_split=5, n_estimators=1500, n_jobs=1,\n",
    "                      random_state=42)\n",
    "rfh.fit(x_train, y_train)"
   ]
  },
  {
   "cell_type": "code",
   "execution_count": 49,
   "metadata": {},
   "outputs": [],
   "source": [
    "y_predrfh=rfh.predict(x_test)"
   ]
  },
  {
   "cell_type": "code",
   "execution_count": 50,
   "metadata": {},
   "outputs": [
    {
     "data": {
      "text/plain": [
       "array([3, 2, 1, ..., 2, 2, 4])"
      ]
     },
     "execution_count": 50,
     "metadata": {},
     "output_type": "execute_result"
    }
   ],
   "source": [
    "y_predrfh"
   ]
  },
  {
   "cell_type": "code",
   "execution_count": 51,
   "metadata": {},
   "outputs": [
    {
     "data": {
      "text/plain": [
       "0.6499928571428571"
      ]
     },
     "execution_count": 51,
     "metadata": {},
     "output_type": "execute_result"
    }
   ],
   "source": [
    "accuracy_score(y_test,y_predrfh)"
   ]
  },
  {
   "cell_type": "code",
   "execution_count": 52,
   "metadata": {},
   "outputs": [
    {
     "name": "stdout",
     "output_type": "stream",
     "text": [
      "Accuracy: 0.6499928571428571\n"
     ]
    }
   ],
   "source": [
    "print(\"Accuracy:\",metrics.accuracy_score(y_test, y_predrfh))"
   ]
  },
  {
   "cell_type": "code",
   "execution_count": null,
   "metadata": {},
   "outputs": [],
   "source": []
  },
  {
   "cell_type": "code",
   "execution_count": null,
   "metadata": {},
   "outputs": [],
   "source": []
  }
 ],
 "metadata": {
  "kernelspec": {
   "display_name": "Python 3",
   "language": "python",
   "name": "python3"
  },
  "language_info": {
   "codemirror_mode": {
    "name": "ipython",
    "version": 3
   },
   "file_extension": ".py",
   "mimetype": "text/x-python",
   "name": "python",
   "nbconvert_exporter": "python",
   "pygments_lexer": "ipython3",
   "version": "3.8.3"
  }
 },
 "nbformat": 4,
 "nbformat_minor": 4
}
